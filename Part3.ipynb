{
 "cells": [
  {
   "cell_type": "markdown",
   "metadata": {},
   "source": [
    "# Movies Tonight Part 3: SQL DML"
   ]
  },
  {
   "cell_type": "code",
   "execution_count": 3,
   "metadata": {},
   "outputs": [
    {
     "name": "stdout",
     "output_type": "stream",
     "text": [
      "The sql extension is already loaded. To reload it, use:\n",
      "  %reload_ext sql\n"
     ]
    },
    {
     "data": {
      "text/plain": [
       "'Connected: @Movies.db'"
      ]
     },
     "execution_count": 3,
     "metadata": {},
     "output_type": "execute_result"
    }
   ],
   "source": [
    "%load_ext sql\n",
    "%sql sqlite:///Movies.db"
   ]
  },
  {
   "cell_type": "markdown",
   "metadata": {},
   "source": [
    "1. **Load the `DATASET.csv` file into the `Movies.db` database.**  \n",
    "    - Import the CSV file to create a new table called `DATASET`. Follow the example [here](http://www.sqlitetutorial.net/sqlite-import-csv/).\n",
    "    - Use a [`PRAGMA table-info` pseudo-query](https://www.sqlite.org/pragma.html#pragma_table_info) to inspect the design of the new table. [How are we going to handle dates](https://www.sqlite.org/datatype3.html)?"
   ]
  },
  {
   "cell_type": "code",
   "execution_count": 7,
   "metadata": {},
   "outputs": [
    {
     "name": "stdout",
     "output_type": "stream",
     "text": [
      " * sqlite:///Movies.db\n",
      "Done.\n"
     ]
    },
    {
     "data": {
      "text/html": [
       "<table>\n",
       "    <tr>\n",
       "        <th>TName</th>\n",
       "        <th>Location</th>\n",
       "        <th>Phone</th>\n",
       "        <th>MTitle</th>\n",
       "        <th>ShowTime</th>\n",
       "        <th>Rating</th>\n",
       "        <th>CCode</th>\n",
       "        <th>CName</th>\n",
       "    </tr>\n",
       "    <tr>\n",
       "        <td>Akarakian Theatres Moreno 4 Cinemas</td>\n",
       "        <td>The Intersection Of Alessandro + Perris Blvds, Moreno Valley</td>\n",
       "        <td>(909) 485-2899</td>\n",
       "        <td>Associate, The</td>\n",
       "        <td>4:20 PM</td>\n",
       "        <td>PG-13</td>\n",
       "        <td>A</td>\n",
       "        <td>Austin Pendleton</td>\n",
       "    </tr>\n",
       "    <tr>\n",
       "        <td>Akarakian Theatres Moreno 4 Cinemas</td>\n",
       "        <td>The Intersection Of Alessandro + Perris Blvds, Moreno Valley</td>\n",
       "        <td>(909) 485-2899</td>\n",
       "        <td>Associate, The</td>\n",
       "        <td>4:20 PM</td>\n",
       "        <td>PG-13</td>\n",
       "        <td>A</td>\n",
       "        <td>Bebe Neuwirth</td>\n",
       "    </tr>\n",
       "    <tr>\n",
       "        <td>Akarakian Theatres Moreno 4 Cinemas</td>\n",
       "        <td>The Intersection Of Alessandro + Perris Blvds, Moreno Valley</td>\n",
       "        <td>(909) 485-2899</td>\n",
       "        <td>Associate, The</td>\n",
       "        <td>4:20 PM</td>\n",
       "        <td>PG-13</td>\n",
       "        <td>A</td>\n",
       "        <td>Dianne Wiest</td>\n",
       "    </tr>\n",
       "    <tr>\n",
       "        <td>Akarakian Theatres Moreno 4 Cinemas</td>\n",
       "        <td>The Intersection Of Alessandro + Perris Blvds, Moreno Valley</td>\n",
       "        <td>(909) 485-2899</td>\n",
       "        <td>Associate, The</td>\n",
       "        <td>4:20 PM</td>\n",
       "        <td>PG-13</td>\n",
       "        <td>A</td>\n",
       "        <td>Eli Wallach</td>\n",
       "    </tr>\n",
       "    <tr>\n",
       "        <td>Akarakian Theatres Moreno 4 Cinemas</td>\n",
       "        <td>The Intersection Of Alessandro + Perris Blvds, Moreno Valley</td>\n",
       "        <td>(909) 485-2899</td>\n",
       "        <td>Associate, The</td>\n",
       "        <td>4:20 PM</td>\n",
       "        <td>PG-13</td>\n",
       "        <td>A</td>\n",
       "        <td>Kenny Kerr</td>\n",
       "    </tr>\n",
       "    <tr>\n",
       "        <td>Akarakian Theatres Moreno 4 Cinemas</td>\n",
       "        <td>The Intersection Of Alessandro + Perris Blvds, Moreno Valley</td>\n",
       "        <td>(909) 485-2899</td>\n",
       "        <td>Associate, The</td>\n",
       "        <td>4:20 PM</td>\n",
       "        <td>PG-13</td>\n",
       "        <td>A</td>\n",
       "        <td>Lainie Kazan</td>\n",
       "    </tr>\n",
       "    <tr>\n",
       "        <td>Akarakian Theatres Moreno 4 Cinemas</td>\n",
       "        <td>The Intersection Of Alessandro + Perris Blvds, Moreno Valley</td>\n",
       "        <td>(909) 485-2899</td>\n",
       "        <td>Associate, The</td>\n",
       "        <td>4:20 PM</td>\n",
       "        <td>PG-13</td>\n",
       "        <td>A</td>\n",
       "        <td>Tim Daly</td>\n",
       "    </tr>\n",
       "    <tr>\n",
       "        <td>Akarakian Theatres Moreno 4 Cinemas</td>\n",
       "        <td>The Intersection Of Alessandro + Perris Blvds, Moreno Valley</td>\n",
       "        <td>(909) 485-2899</td>\n",
       "        <td>Associate, The</td>\n",
       "        <td>4:20 PM</td>\n",
       "        <td>PG-13</td>\n",
       "        <td>A</td>\n",
       "        <td>Whoopi Goldberg</td>\n",
       "    </tr>\n",
       "    <tr>\n",
       "        <td>Akarakian Theatres Moreno 4 Cinemas</td>\n",
       "        <td>The Intersection Of Alessandro + Perris Blvds, Moreno Valley</td>\n",
       "        <td>(909) 485-2899</td>\n",
       "        <td>Associate, The</td>\n",
       "        <td>4:20 PM</td>\n",
       "        <td>PG-13</td>\n",
       "        <td>D</td>\n",
       "        <td>Donald Petrie</td>\n",
       "    </tr>\n",
       "    <tr>\n",
       "        <td>Akarakian Theatres Moreno 4 Cinemas</td>\n",
       "        <td>The Intersection Of Alessandro + Perris Blvds, Moreno Valley</td>\n",
       "        <td>(909) 485-2899</td>\n",
       "        <td>Associate, The</td>\n",
       "        <td>7:20 PM</td>\n",
       "        <td>PG-13</td>\n",
       "        <td>A</td>\n",
       "        <td>Austin Pendleton</td>\n",
       "    </tr>\n",
       "</table>"
      ],
      "text/plain": [
       "[('Akarakian Theatres Moreno 4 Cinemas', 'The Intersection Of Alessandro + Perris Blvds, Moreno Valley', '(909) 485-2899', 'Associate, The', '4:20 PM', 'PG-13', 'A', 'Austin Pendleton'),\n",
       " ('Akarakian Theatres Moreno 4 Cinemas', 'The Intersection Of Alessandro + Perris Blvds, Moreno Valley', '(909) 485-2899', 'Associate, The', '4:20 PM', 'PG-13', 'A', 'Bebe Neuwirth'),\n",
       " ('Akarakian Theatres Moreno 4 Cinemas', 'The Intersection Of Alessandro + Perris Blvds, Moreno Valley', '(909) 485-2899', 'Associate, The', '4:20 PM', 'PG-13', 'A', 'Dianne Wiest'),\n",
       " ('Akarakian Theatres Moreno 4 Cinemas', 'The Intersection Of Alessandro + Perris Blvds, Moreno Valley', '(909) 485-2899', 'Associate, The', '4:20 PM', 'PG-13', 'A', 'Eli Wallach'),\n",
       " ('Akarakian Theatres Moreno 4 Cinemas', 'The Intersection Of Alessandro + Perris Blvds, Moreno Valley', '(909) 485-2899', 'Associate, The', '4:20 PM', 'PG-13', 'A', 'Kenny Kerr'),\n",
       " ('Akarakian Theatres Moreno 4 Cinemas', 'The Intersection Of Alessandro + Perris Blvds, Moreno Valley', '(909) 485-2899', 'Associate, The', '4:20 PM', 'PG-13', 'A', 'Lainie Kazan'),\n",
       " ('Akarakian Theatres Moreno 4 Cinemas', 'The Intersection Of Alessandro + Perris Blvds, Moreno Valley', '(909) 485-2899', 'Associate, The', '4:20 PM', 'PG-13', 'A', 'Tim Daly'),\n",
       " ('Akarakian Theatres Moreno 4 Cinemas', 'The Intersection Of Alessandro + Perris Blvds, Moreno Valley', '(909) 485-2899', 'Associate, The', '4:20 PM', 'PG-13', 'A', 'Whoopi Goldberg'),\n",
       " ('Akarakian Theatres Moreno 4 Cinemas', 'The Intersection Of Alessandro + Perris Blvds, Moreno Valley', '(909) 485-2899', 'Associate, The', '4:20 PM', 'PG-13', 'D', 'Donald Petrie'),\n",
       " ('Akarakian Theatres Moreno 4 Cinemas', 'The Intersection Of Alessandro + Perris Blvds, Moreno Valley', '(909) 485-2899', 'Associate, The', '7:20 PM', 'PG-13', 'A', 'Austin Pendleton')]"
      ]
     },
     "execution_count": 7,
     "metadata": {},
     "output_type": "execute_result"
    }
   ],
   "source": [
    "%%sql\n",
    "SELECT *\n",
    "FROM DATASET\n",
    "LIMIT 10;"
   ]
  },
  {
   "cell_type": "markdown",
   "metadata": {},
   "source": [
    "2. **Populate the tables with data.**  \n",
    "\n",
    "    - Use `INSERT ... SELECT ...` queries to extract data from `DATASET` for each table of your other tables. \n",
    "    - Start with the strong entities before moving on to the weak ones. Be sure to always select distinct     values. \n",
    "    - Foreign Keys get special treatment. You will have to use JOINs to pick up the PKs from the other side of the relationships. (As in Part 1, use the fact that movie names, theater names, and people names are always unique in our source data. That way you can use then for the JOIN columns. \n",
    "    - If you have to start over, then rerun your DDL queries from Part 2. "
   ]
  },
  {
   "cell_type": "code",
   "execution_count": 3,
   "metadata": {},
   "outputs": [
    {
     "name": "stdout",
     "output_type": "stream",
     "text": [
      " * sqlite:///Movies.db\n",
      "23 rows affected.\n"
     ]
    },
    {
     "data": {
      "text/plain": [
       "[]"
      ]
     },
     "execution_count": 3,
     "metadata": {},
     "output_type": "execute_result"
    }
   ],
   "source": [
    "%%sql\n",
    "INSERT INTO MOVIE (MTitle, Rating)\n",
    "    SELECT DISTINCT MTitle, Rating\n",
    "    FROM DATASET;\n",
    "    "
   ]
  },
  {
   "cell_type": "code",
   "execution_count": 4,
   "metadata": {},
   "outputs": [
    {
     "name": "stdout",
     "output_type": "stream",
     "text": [
      " * sqlite:///Movies.db\n",
      "9 rows affected.\n"
     ]
    },
    {
     "data": {
      "text/plain": [
       "[]"
      ]
     },
     "execution_count": 4,
     "metadata": {},
     "output_type": "execute_result"
    }
   ],
   "source": [
    "%%sql\n",
    "INSERT INTO THEATER (TName, Location, Phone)\n",
    "    SELECT DISTINCT TName, Location, Phone\n",
    "    FROM DATASET;"
   ]
  },
  {
   "cell_type": "code",
   "execution_count": 5,
   "metadata": {},
   "outputs": [
    {
     "name": "stdout",
     "output_type": "stream",
     "text": [
      " * sqlite:///Movies.db\n",
      "153 rows affected.\n"
     ]
    },
    {
     "data": {
      "text/plain": [
       "[]"
      ]
     },
     "execution_count": 5,
     "metadata": {},
     "output_type": "execute_result"
    }
   ],
   "source": [
    "%%sql\n",
    "INSERT INTO ARTIST (Name)\n",
    "    SELECT DISTINCT CName\n",
    "    FROM DATASET;"
   ]
  },
  {
   "cell_type": "code",
   "execution_count": 6,
   "metadata": {},
   "outputs": [
    {
     "name": "stdout",
     "output_type": "stream",
     "text": [
      " * sqlite:///Movies.db\n",
      "162 rows affected.\n"
     ]
    },
    {
     "data": {
      "text/plain": [
       "[]"
      ]
     },
     "execution_count": 6,
     "metadata": {},
     "output_type": "execute_result"
    }
   ],
   "source": [
    "%%sql\n",
    "INSERT INTO CREDIT (MID, AID, CCode)\n",
    "SELECT DISTINCT MID, AID, CCode\n",
    "FROM DATASET\n",
    "    JOIN MOVIE ON (MOVIE.MTitle = DATASET.MTitle)    \n",
    "    JOIN ARTIST ON (ARTIST.Name = DATASET.CName);"
   ]
  },
  {
   "cell_type": "code",
   "execution_count": 7,
   "metadata": {},
   "outputs": [
    {
     "name": "stdout",
     "output_type": "stream",
     "text": [
      " * sqlite:///Movies.db\n",
      "131 rows affected.\n"
     ]
    },
    {
     "data": {
      "text/plain": [
       "[]"
      ]
     },
     "execution_count": 7,
     "metadata": {},
     "output_type": "execute_result"
    }
   ],
   "source": [
    "%%sql\n",
    "INSERT INTO SHOW (MID, TID, STime)\n",
    "SELECT DISTINCT MID,TID, ShowTime\n",
    "FROM DATASET\n",
    "    JOIN MOVIE ON (DATASET.MTitle = MOVIE.MTitle)\n",
    "    JOIN THEATER ON (DATASET.TName = THEATER.TName);"
   ]
  },
  {
   "cell_type": "markdown",
   "metadata": {},
   "source": [
    "3. **Check your work.**  \n",
    "There are 9 theaters, 23 movies, 152 artists, 131 shows, and 161 credits."
   ]
  },
  {
   "cell_type": "code",
   "execution_count": null,
   "metadata": {},
   "outputs": [],
   "source": [
    "YOUR CODE HERE"
   ]
  },
  {
   "cell_type": "markdown",
   "metadata": {},
   "source": [
    "4. **Now check the source data.**  \n",
    "There are actually 13 duplicate rows in the original source data! Can you spot them? Write a SQL query that counts how many times each (MTitle, TName, Showtime, CCode, and CName) appears. Which ones appear more than once?"
   ]
  },
  {
   "cell_type": "code",
   "execution_count": null,
   "metadata": {},
   "outputs": [],
   "source": [
    "YOUR CODE HERE"
   ]
  },
  {
   "cell_type": "markdown",
   "metadata": {},
   "source": [
    "5. **Drop the `DATASET` table.**  \n",
    "We don't need it anymore. "
   ]
  },
  {
   "cell_type": "code",
   "execution_count": null,
   "metadata": {},
   "outputs": [],
   "source": []
  },
  {
   "cell_type": "markdown",
   "metadata": {},
   "source": [
    "6. **Save, commit, and push your work to GitHub.**  \n",
    "Use the commit summary comment \"Completed Part 3\"."
   ]
  },
  {
   "cell_type": "code",
   "execution_count": null,
   "metadata": {},
   "outputs": [],
   "source": []
  }
 ],
 "metadata": {
  "kernelspec": {
   "display_name": "Python 3",
   "language": "python",
   "name": "python3"
  },
  "language_info": {
   "codemirror_mode": {
    "name": "ipython",
    "version": 3
   },
   "file_extension": ".py",
   "mimetype": "text/x-python",
   "name": "python",
   "nbconvert_exporter": "python",
   "pygments_lexer": "ipython3",
   "version": "3.6.5"
  }
 },
 "nbformat": 4,
 "nbformat_minor": 2
}
